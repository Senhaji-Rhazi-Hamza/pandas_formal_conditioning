{
 "metadata": {
  "language_info": {
   "codemirror_mode": {
    "name": "ipython",
    "version": 3
   },
   "file_extension": ".py",
   "mimetype": "text/x-python",
   "name": "python",
   "nbconvert_exporter": "python",
   "pygments_lexer": "ipython3",
   "version": "3.6.9"
  },
  "orig_nbformat": 4,
  "kernelspec": {
   "name": "python3",
   "display_name": "Python 3.6.9 64-bit"
  },
  "interpreter": {
   "hash": "30295c5bec572e859485b1ffa5e89b8b3e2022ef6e3e739c1ac40f143a557caf"
  }
 },
 "nbformat": 4,
 "nbformat_minor": 2,
 "cells": [
  {
   "source": [
    "# Boolean Algebra & first order logic"
   ],
   "cell_type": "markdown",
   "metadata": {}
  },
  {
   "source": [],
   "cell_type": "markdown",
   "metadata": {}
  },
  {
   "cell_type": "code",
   "execution_count": 26,
   "metadata": {},
   "outputs": [],
   "source": [
    "# decomment if pandas or faker not installed in your env\n",
    "#!pip install pandas\n",
    "#!pip install faker"
   ]
  },
  {
   "source": [
    "## 1 Generating fake data (person details type data)\n"
   ],
   "cell_type": "markdown",
   "metadata": {}
  },
  {
   "cell_type": "code",
   "execution_count": 15,
   "metadata": {},
   "outputs": [],
   "source": [
    "### Function to generate Fake dataframe\n",
    "def gen_fake_data(fake_config, fake):\n",
    "    data = []\n",
    "    for i in range(fake_config['nrows']):\n",
    "        fake_types = fake_config['fake_types']\n",
    "        data.append(\n",
    "            {\n",
    "                el.get('column_name', None) or el['fake_type']:\n",
    "                    getattr(fake,el['fake_type'])() if (el.get('kwargs') is None) else getattr(fake,el['fake_type'])(**el.get('kwargs')) \n",
    "                    for el in fake_types \n",
    "                    }\n",
    "        )\n",
    "    return data"
   ]
  },
  {
   "cell_type": "code",
   "execution_count": 16,
   "metadata": {},
   "outputs": [],
   "source": [
    "### Config argument to generate the dataframe\n",
    "fake_config = {\n",
    "  \"fake_types\": [\n",
    "    {\n",
    "      \"fake_type\": \"first_name\",\n",
    "    },\n",
    "    {\n",
    "      \"fake_type\": \"last_name\",\n",
    "    },\n",
    "    {\n",
    "      \"fake_type\": \"email\",\n",
    "    },\n",
    "    {\n",
    "      \"fake_type\": \"country_code\"\n",
    "    },\n",
    "    {\n",
    "      \"fake_type\": \"phone_number\"\n",
    "    },\n",
    "    {\n",
    "        \"fake_type\": \"job\",\n",
    "    },\n",
    "    {\n",
    "        \"fake_type\": \"currency_code\",\n",
    "    }\n",
    "  ],\n",
    "  \"nrows\": 8000\n",
    "}\n"
   ]
  },
  {
   "cell_type": "code",
   "execution_count": 17,
   "metadata": {},
   "outputs": [],
   "source": [
    "# Instantiate fake data\n",
    "import pandas as pd\n",
    "from faker import Faker\n",
    "fake = Faker()\n",
    "fake.seed(0)\n",
    "\n",
    "\n",
    "ldic = gen_fake_data(fake_config, fake)\n",
    "df = pd.DataFrame(ldic)"
   ]
  },
  {
   "cell_type": "code",
   "execution_count": 18,
   "metadata": {},
   "outputs": [
    {
     "output_type": "execute_result",
     "data": {
      "text/plain": [
       "  country_code currency_code                          email   first_name  \\\n",
       "0           MU           BMD     williamsullivan@turner.org        Megan   \n",
       "1           UZ           KGS               swoods@gmail.com         Ryan   \n",
       "2           NG           SYP         crodriguez@hotmail.com  Christopher   \n",
       "3           YE           NOK       sheltondavid@johnson.biz      Antonio   \n",
       "4           SN           MXN  darrellmatthews@lee-smith.com     Isabella   \n",
       "\n",
       "                           job last_name          phone_number  \n",
       "0          Hospital pharmacist     Chang          194.892.4115  \n",
       "1                Retail banker      Carr   (016)097-5351x39332  \n",
       "2          Colour technologist    Flores  +1-839-894-7196x5934  \n",
       "3  Information systems manager    Zavala       +1-848-339-6947  \n",
       "4       Occupational hygienist      Haas     256-012-3098x9101  "
      ],
      "text/html": "<div>\n<style scoped>\n    .dataframe tbody tr th:only-of-type {\n        vertical-align: middle;\n    }\n\n    .dataframe tbody tr th {\n        vertical-align: top;\n    }\n\n    .dataframe thead th {\n        text-align: right;\n    }\n</style>\n<table border=\"1\" class=\"dataframe\">\n  <thead>\n    <tr style=\"text-align: right;\">\n      <th></th>\n      <th>country_code</th>\n      <th>currency_code</th>\n      <th>email</th>\n      <th>first_name</th>\n      <th>job</th>\n      <th>last_name</th>\n      <th>phone_number</th>\n    </tr>\n  </thead>\n  <tbody>\n    <tr>\n      <th>0</th>\n      <td>MU</td>\n      <td>BMD</td>\n      <td>williamsullivan@turner.org</td>\n      <td>Megan</td>\n      <td>Hospital pharmacist</td>\n      <td>Chang</td>\n      <td>194.892.4115</td>\n    </tr>\n    <tr>\n      <th>1</th>\n      <td>UZ</td>\n      <td>KGS</td>\n      <td>swoods@gmail.com</td>\n      <td>Ryan</td>\n      <td>Retail banker</td>\n      <td>Carr</td>\n      <td>(016)097-5351x39332</td>\n    </tr>\n    <tr>\n      <th>2</th>\n      <td>NG</td>\n      <td>SYP</td>\n      <td>crodriguez@hotmail.com</td>\n      <td>Christopher</td>\n      <td>Colour technologist</td>\n      <td>Flores</td>\n      <td>+1-839-894-7196x5934</td>\n    </tr>\n    <tr>\n      <th>3</th>\n      <td>YE</td>\n      <td>NOK</td>\n      <td>sheltondavid@johnson.biz</td>\n      <td>Antonio</td>\n      <td>Information systems manager</td>\n      <td>Zavala</td>\n      <td>+1-848-339-6947</td>\n    </tr>\n    <tr>\n      <th>4</th>\n      <td>SN</td>\n      <td>MXN</td>\n      <td>darrellmatthews@lee-smith.com</td>\n      <td>Isabella</td>\n      <td>Occupational hygienist</td>\n      <td>Haas</td>\n      <td>256-012-3098x9101</td>\n    </tr>\n  </tbody>\n</table>\n</div>"
     },
     "metadata": {},
     "execution_count": 18
    }
   ],
   "source": [
    "df.head()"
   ]
  },
  {
   "source": [
    "## 2 Define our operators and extractors"
   ],
   "cell_type": "markdown",
   "metadata": {}
  },
  {
   "source": [
    "### 2.1 operators"
   ],
   "cell_type": "markdown",
   "metadata": {}
  },
  {
   "cell_type": "code",
   "execution_count": 19,
   "metadata": {},
   "outputs": [],
   "source": [
    "# Define logical operators\n",
    "from functools import reduce\n",
    "\n",
    "def and_(*conditions):\n",
    "    # the classical logical operator \"and\" is binary, this one is n-ary to facilitate mainuplation \n",
    "    # instead of doing and_(and_(c1, c2),c3) we do and_(c1, c2, c3)\n",
    "    # when applied on every colum, it plays the role of the operator ∀(c)\n",
    "    return reduce(lambda x, y : x & y, conditions)\n",
    "\n",
    "def or_(*conditions):\n",
    "    # the classical logical operator \"or\" is binary, this one is n-ary to facilitate mainuplation \n",
    "    # instead of doing or_(or_(c1, c2),c3) we do or_(c1, c2, c3)\n",
    "    # when applied on every colum, it plays the role of the operator ∃(c)\n",
    "    return reduce(lambda x, y: x | y, conditions)\n",
    "\n",
    "def not_(condition):\n",
    "    # plays the role of the classical \"not\" operator\n",
    "    return ~condition"
   ]
  },
  {
   "source": [
    "### 2.2 extractors "
   ],
   "cell_type": "markdown",
   "metadata": {}
  },
  {
   "cell_type": "code",
   "execution_count": 42,
   "metadata": {},
   "outputs": [],
   "source": [
    "\n",
    "def get_condition_on_df_col(df, column, lambda_func):\n",
    "    # return a serie of truth valuation {True, False} of the condition lambda_func for every cell in the column \n",
    "    return df[column].apply(lambda row : lambda_func(row))\n",
    "\n",
    "def get_condition_on_at_least_one_col(df, lambda_func, columns = []):\n",
    "    if columns == []:\n",
    "        columns = df.columns \n",
    "    return or_(*[get_condition_on_df_col(df,  column, lambda_func) for column in columns ])\n",
    "\n",
    "def get_condition_on_every_col(df, lambda_func, columns = []):\n",
    "    if columns == []:\n",
    "        columns = df.columns \n",
    "    return and_(*[get_condition_on_df_col(df,  column, lambda_func) for column in columns ])"
   ]
  },
  {
   "source": [
    "## 3 Questions answering"
   ],
   "cell_type": "markdown",
   "metadata": {}
  },
  {
   "source": [
    "### 3.1 A person who her first name starts with an a"
   ],
   "cell_type": "markdown",
   "metadata": {}
  },
  {
   "cell_type": "code",
   "execution_count": 43,
   "metadata": {},
   "outputs": [
    {
     "output_type": "execute_result",
     "data": {
      "text/plain": [
       "   country_code currency_code                               email first_name  \\\n",
       "3            YE           NOK            sheltondavid@johnson.biz    Antonio   \n",
       "11           SA           FJD               mwilliams@hotmail.com     Angela   \n",
       "14           DM           ARS                    lklein@gmail.com     Angela   \n",
       "18           EG           HRK      mallorybarton@reyes-martin.org     Ashley   \n",
       "19           RW           BSD  osborneandrew@anderson-nguyen.info     Austin   \n",
       "\n",
       "                                              job last_name  \\\n",
       "3                     Information systems manager    Zavala   \n",
       "11  Chartered legal executive (England and Wales)     Potts   \n",
       "14                   Conservation officer, nature   Roberts   \n",
       "18                                   Risk analyst      Cook   \n",
       "19                     Regulatory affairs officer     Owens   \n",
       "\n",
       "              phone_number  \n",
       "3          +1-848-339-6947  \n",
       "11         +1-765-823-6940  \n",
       "14  001-926-351-1087x31764  \n",
       "18        001-500-762-7912  \n",
       "19           (710)979-5194  "
      ],
      "text/html": "<div>\n<style scoped>\n    .dataframe tbody tr th:only-of-type {\n        vertical-align: middle;\n    }\n\n    .dataframe tbody tr th {\n        vertical-align: top;\n    }\n\n    .dataframe thead th {\n        text-align: right;\n    }\n</style>\n<table border=\"1\" class=\"dataframe\">\n  <thead>\n    <tr style=\"text-align: right;\">\n      <th></th>\n      <th>country_code</th>\n      <th>currency_code</th>\n      <th>email</th>\n      <th>first_name</th>\n      <th>job</th>\n      <th>last_name</th>\n      <th>phone_number</th>\n    </tr>\n  </thead>\n  <tbody>\n    <tr>\n      <th>3</th>\n      <td>YE</td>\n      <td>NOK</td>\n      <td>sheltondavid@johnson.biz</td>\n      <td>Antonio</td>\n      <td>Information systems manager</td>\n      <td>Zavala</td>\n      <td>+1-848-339-6947</td>\n    </tr>\n    <tr>\n      <th>11</th>\n      <td>SA</td>\n      <td>FJD</td>\n      <td>mwilliams@hotmail.com</td>\n      <td>Angela</td>\n      <td>Chartered legal executive (England and Wales)</td>\n      <td>Potts</td>\n      <td>+1-765-823-6940</td>\n    </tr>\n    <tr>\n      <th>14</th>\n      <td>DM</td>\n      <td>ARS</td>\n      <td>lklein@gmail.com</td>\n      <td>Angela</td>\n      <td>Conservation officer, nature</td>\n      <td>Roberts</td>\n      <td>001-926-351-1087x31764</td>\n    </tr>\n    <tr>\n      <th>18</th>\n      <td>EG</td>\n      <td>HRK</td>\n      <td>mallorybarton@reyes-martin.org</td>\n      <td>Ashley</td>\n      <td>Risk analyst</td>\n      <td>Cook</td>\n      <td>001-500-762-7912</td>\n    </tr>\n    <tr>\n      <th>19</th>\n      <td>RW</td>\n      <td>BSD</td>\n      <td>osborneandrew@anderson-nguyen.info</td>\n      <td>Austin</td>\n      <td>Regulatory affairs officer</td>\n      <td>Owens</td>\n      <td>(710)979-5194</td>\n    </tr>\n  </tbody>\n</table>\n</div>"
     },
     "metadata": {},
     "execution_count": 43
    }
   ],
   "source": [
    "#A person who her first name starts with an a\n",
    "lambda_func_startswith_a = lambda cel : cel.lower().startswith('a')\n",
    "column = 'first_name'\n",
    "c1 = get_condition_on_df_col(df, column, lambda_func_startswith_a)\n",
    "df[c1].head()"
   ]
  },
  {
   "source": [
    "### 3.2 A person who her last name start with a b"
   ],
   "cell_type": "markdown",
   "metadata": {}
  },
  {
   "cell_type": "code",
   "execution_count": 44,
   "metadata": {},
   "outputs": [
    {
     "output_type": "execute_result",
     "data": {
      "text/plain": [
       "    country_code currency_code                       email first_name  \\\n",
       "17            KZ           GHS          zchang@hotmail.com      Wayne   \n",
       "31            TD           KWD           monica50@byrd.com   Jennifer   \n",
       "53            MH           VEF  serranomatthew@hotmail.com    Michele   \n",
       "100           ML           JEP      harrellandre@yahoo.com     Rachel   \n",
       "112           VE           JPY  charlotteadams@benson.info      James   \n",
       "\n",
       "                            job last_name        phone_number  \n",
       "17    Psychologist, counselling     Berry       (896)769-9300  \n",
       "31   Designer, interior/spatial   Bullock    001-567-088-6977  \n",
       "53        Clinical embryologist     Baker          8400652822  \n",
       "100       Pharmacist, community      Beck        419-493-0239  \n",
       "112      Geologist, engineering     Beard  645.935.6213x57725  "
      ],
      "text/html": "<div>\n<style scoped>\n    .dataframe tbody tr th:only-of-type {\n        vertical-align: middle;\n    }\n\n    .dataframe tbody tr th {\n        vertical-align: top;\n    }\n\n    .dataframe thead th {\n        text-align: right;\n    }\n</style>\n<table border=\"1\" class=\"dataframe\">\n  <thead>\n    <tr style=\"text-align: right;\">\n      <th></th>\n      <th>country_code</th>\n      <th>currency_code</th>\n      <th>email</th>\n      <th>first_name</th>\n      <th>job</th>\n      <th>last_name</th>\n      <th>phone_number</th>\n    </tr>\n  </thead>\n  <tbody>\n    <tr>\n      <th>17</th>\n      <td>KZ</td>\n      <td>GHS</td>\n      <td>zchang@hotmail.com</td>\n      <td>Wayne</td>\n      <td>Psychologist, counselling</td>\n      <td>Berry</td>\n      <td>(896)769-9300</td>\n    </tr>\n    <tr>\n      <th>31</th>\n      <td>TD</td>\n      <td>KWD</td>\n      <td>monica50@byrd.com</td>\n      <td>Jennifer</td>\n      <td>Designer, interior/spatial</td>\n      <td>Bullock</td>\n      <td>001-567-088-6977</td>\n    </tr>\n    <tr>\n      <th>53</th>\n      <td>MH</td>\n      <td>VEF</td>\n      <td>serranomatthew@hotmail.com</td>\n      <td>Michele</td>\n      <td>Clinical embryologist</td>\n      <td>Baker</td>\n      <td>8400652822</td>\n    </tr>\n    <tr>\n      <th>100</th>\n      <td>ML</td>\n      <td>JEP</td>\n      <td>harrellandre@yahoo.com</td>\n      <td>Rachel</td>\n      <td>Pharmacist, community</td>\n      <td>Beck</td>\n      <td>419-493-0239</td>\n    </tr>\n    <tr>\n      <th>112</th>\n      <td>VE</td>\n      <td>JPY</td>\n      <td>charlotteadams@benson.info</td>\n      <td>James</td>\n      <td>Geologist, engineering</td>\n      <td>Beard</td>\n      <td>645.935.6213x57725</td>\n    </tr>\n  </tbody>\n</table>\n</div>"
     },
     "metadata": {},
     "execution_count": 44
    }
   ],
   "source": [
    "lambda_func_startswith_b = lambda cel : cel.lower().startswith('b')\n",
    "column = 'last_name'\n",
    "c2 = get_condition_on_df_col(df, column, lambda_func_startswith_b)\n",
    "df[c2].head()"
   ]
  },
  {
   "source": [
    "### 3.3 A person who her first name doesn't end with an a and her last name doesn't end with a b\n"
   ],
   "cell_type": "markdown",
   "metadata": {}
  },
  {
   "cell_type": "code",
   "execution_count": 45,
   "metadata": {},
   "outputs": [
    {
     "output_type": "execute_result",
     "data": {
      "text/plain": [
       "  country_code currency_code                       email   first_name  \\\n",
       "0           MU           BMD  williamsullivan@turner.org        Megan   \n",
       "1           UZ           KGS            swoods@gmail.com         Ryan   \n",
       "2           NG           SYP      crodriguez@hotmail.com  Christopher   \n",
       "3           YE           NOK    sheltondavid@johnson.biz      Antonio   \n",
       "6           MD           ALL   howardjessica@hotmail.com     Benjamin   \n",
       "\n",
       "                           job last_name          phone_number  \n",
       "0          Hospital pharmacist     Chang          194.892.4115  \n",
       "1                Retail banker      Carr   (016)097-5351x39332  \n",
       "2          Colour technologist    Flores  +1-839-894-7196x5934  \n",
       "3  Information systems manager    Zavala       +1-848-339-6947  \n",
       "6                  Pathologist    Garcia         (302)258-4197  "
      ],
      "text/html": "<div>\n<style scoped>\n    .dataframe tbody tr th:only-of-type {\n        vertical-align: middle;\n    }\n\n    .dataframe tbody tr th {\n        vertical-align: top;\n    }\n\n    .dataframe thead th {\n        text-align: right;\n    }\n</style>\n<table border=\"1\" class=\"dataframe\">\n  <thead>\n    <tr style=\"text-align: right;\">\n      <th></th>\n      <th>country_code</th>\n      <th>currency_code</th>\n      <th>email</th>\n      <th>first_name</th>\n      <th>job</th>\n      <th>last_name</th>\n      <th>phone_number</th>\n    </tr>\n  </thead>\n  <tbody>\n    <tr>\n      <th>0</th>\n      <td>MU</td>\n      <td>BMD</td>\n      <td>williamsullivan@turner.org</td>\n      <td>Megan</td>\n      <td>Hospital pharmacist</td>\n      <td>Chang</td>\n      <td>194.892.4115</td>\n    </tr>\n    <tr>\n      <th>1</th>\n      <td>UZ</td>\n      <td>KGS</td>\n      <td>swoods@gmail.com</td>\n      <td>Ryan</td>\n      <td>Retail banker</td>\n      <td>Carr</td>\n      <td>(016)097-5351x39332</td>\n    </tr>\n    <tr>\n      <th>2</th>\n      <td>NG</td>\n      <td>SYP</td>\n      <td>crodriguez@hotmail.com</td>\n      <td>Christopher</td>\n      <td>Colour technologist</td>\n      <td>Flores</td>\n      <td>+1-839-894-7196x5934</td>\n    </tr>\n    <tr>\n      <th>3</th>\n      <td>YE</td>\n      <td>NOK</td>\n      <td>sheltondavid@johnson.biz</td>\n      <td>Antonio</td>\n      <td>Information systems manager</td>\n      <td>Zavala</td>\n      <td>+1-848-339-6947</td>\n    </tr>\n    <tr>\n      <th>6</th>\n      <td>MD</td>\n      <td>ALL</td>\n      <td>howardjessica@hotmail.com</td>\n      <td>Benjamin</td>\n      <td>Pathologist</td>\n      <td>Garcia</td>\n      <td>(302)258-4197</td>\n    </tr>\n  </tbody>\n</table>\n</div>"
     },
     "metadata": {},
     "execution_count": 45
    }
   ],
   "source": [
    "lambda_func_endswith_a = lambda cel : cel.lower().endswith('a')\n",
    "column = 'first_name'\n",
    "c3A = get_condition_on_df_col(df, column, lambda_func_endswith_a)\n",
    "lambda_func_endswith_b = lambda cel : cel.lower().endswith('b')\n",
    "column = 'last_name'\n",
    "c3B = get_condition_on_df_col(df, column, lambda_func_endswith_b)\n",
    "c3 = and_(not_(c3B), not_(c3A)) # could be written also as not_(and_(c3B, c3A))\n",
    "df[c3].head()"
   ]
  },
  {
   "source": [
    "### 3.4 A person who her country code is not US and verify the condition (1 and 2) or 3\n"
   ],
   "cell_type": "markdown",
   "metadata": {}
  },
  {
   "cell_type": "code",
   "execution_count": 46,
   "metadata": {},
   "outputs": [
    {
     "output_type": "execute_result",
     "data": {
      "text/plain": [
       "  country_code currency_code                       email   first_name  \\\n",
       "0           MU           BMD  williamsullivan@turner.org        Megan   \n",
       "1           UZ           KGS            swoods@gmail.com         Ryan   \n",
       "2           NG           SYP      crodriguez@hotmail.com  Christopher   \n",
       "3           YE           NOK    sheltondavid@johnson.biz      Antonio   \n",
       "6           MD           ALL   howardjessica@hotmail.com     Benjamin   \n",
       "\n",
       "                           job last_name          phone_number  \n",
       "0          Hospital pharmacist     Chang          194.892.4115  \n",
       "1                Retail banker      Carr   (016)097-5351x39332  \n",
       "2          Colour technologist    Flores  +1-839-894-7196x5934  \n",
       "3  Information systems manager    Zavala       +1-848-339-6947  \n",
       "6                  Pathologist    Garcia         (302)258-4197  "
      ],
      "text/html": "<div>\n<style scoped>\n    .dataframe tbody tr th:only-of-type {\n        vertical-align: middle;\n    }\n\n    .dataframe tbody tr th {\n        vertical-align: top;\n    }\n\n    .dataframe thead th {\n        text-align: right;\n    }\n</style>\n<table border=\"1\" class=\"dataframe\">\n  <thead>\n    <tr style=\"text-align: right;\">\n      <th></th>\n      <th>country_code</th>\n      <th>currency_code</th>\n      <th>email</th>\n      <th>first_name</th>\n      <th>job</th>\n      <th>last_name</th>\n      <th>phone_number</th>\n    </tr>\n  </thead>\n  <tbody>\n    <tr>\n      <th>0</th>\n      <td>MU</td>\n      <td>BMD</td>\n      <td>williamsullivan@turner.org</td>\n      <td>Megan</td>\n      <td>Hospital pharmacist</td>\n      <td>Chang</td>\n      <td>194.892.4115</td>\n    </tr>\n    <tr>\n      <th>1</th>\n      <td>UZ</td>\n      <td>KGS</td>\n      <td>swoods@gmail.com</td>\n      <td>Ryan</td>\n      <td>Retail banker</td>\n      <td>Carr</td>\n      <td>(016)097-5351x39332</td>\n    </tr>\n    <tr>\n      <th>2</th>\n      <td>NG</td>\n      <td>SYP</td>\n      <td>crodriguez@hotmail.com</td>\n      <td>Christopher</td>\n      <td>Colour technologist</td>\n      <td>Flores</td>\n      <td>+1-839-894-7196x5934</td>\n    </tr>\n    <tr>\n      <th>3</th>\n      <td>YE</td>\n      <td>NOK</td>\n      <td>sheltondavid@johnson.biz</td>\n      <td>Antonio</td>\n      <td>Information systems manager</td>\n      <td>Zavala</td>\n      <td>+1-848-339-6947</td>\n    </tr>\n    <tr>\n      <th>6</th>\n      <td>MD</td>\n      <td>ALL</td>\n      <td>howardjessica@hotmail.com</td>\n      <td>Benjamin</td>\n      <td>Pathologist</td>\n      <td>Garcia</td>\n      <td>(302)258-4197</td>\n    </tr>\n  </tbody>\n</table>\n</div>"
     },
     "metadata": {},
     "execution_count": 46
    }
   ],
   "source": [
    "#A person who her country code is not US and verify the condition (1 and 2) or 3\n",
    "lambda_func_country_code_not_us = lambda cel : cel != 'US'\n",
    "column = 'country_code'\n",
    "c4A = get_condition_on_df_col(df, column, lambda_func_country_code_not_us)\n",
    "c4 = and_(c4A, or_(and_(c1, c2), c3)) \n",
    "df[c4].head()"
   ]
  },
  {
   "cell_type": "code",
   "execution_count": 47,
   "metadata": {},
   "outputs": [
    {
     "output_type": "execute_result",
     "data": {
      "text/plain": [
       "  country_code currency_code                       email   first_name  \\\n",
       "0           MU           BMD  williamsullivan@turner.org        Megan   \n",
       "1           UZ           KGS            swoods@gmail.com         Ryan   \n",
       "2           NG           SYP      crodriguez@hotmail.com  Christopher   \n",
       "3           YE           NOK    sheltondavid@johnson.biz      Antonio   \n",
       "6           MD           ALL   howardjessica@hotmail.com     Benjamin   \n",
       "\n",
       "                           job last_name          phone_number  \n",
       "0          Hospital pharmacist     Chang          194.892.4115  \n",
       "1                Retail banker      Carr   (016)097-5351x39332  \n",
       "2          Colour technologist    Flores  +1-839-894-7196x5934  \n",
       "3  Information systems manager    Zavala       +1-848-339-6947  \n",
       "6                  Pathologist    Garcia         (302)258-4197  "
      ],
      "text/html": "<div>\n<style scoped>\n    .dataframe tbody tr th:only-of-type {\n        vertical-align: middle;\n    }\n\n    .dataframe tbody tr th {\n        vertical-align: top;\n    }\n\n    .dataframe thead th {\n        text-align: right;\n    }\n</style>\n<table border=\"1\" class=\"dataframe\">\n  <thead>\n    <tr style=\"text-align: right;\">\n      <th></th>\n      <th>country_code</th>\n      <th>currency_code</th>\n      <th>email</th>\n      <th>first_name</th>\n      <th>job</th>\n      <th>last_name</th>\n      <th>phone_number</th>\n    </tr>\n  </thead>\n  <tbody>\n    <tr>\n      <th>0</th>\n      <td>MU</td>\n      <td>BMD</td>\n      <td>williamsullivan@turner.org</td>\n      <td>Megan</td>\n      <td>Hospital pharmacist</td>\n      <td>Chang</td>\n      <td>194.892.4115</td>\n    </tr>\n    <tr>\n      <th>1</th>\n      <td>UZ</td>\n      <td>KGS</td>\n      <td>swoods@gmail.com</td>\n      <td>Ryan</td>\n      <td>Retail banker</td>\n      <td>Carr</td>\n      <td>(016)097-5351x39332</td>\n    </tr>\n    <tr>\n      <th>2</th>\n      <td>NG</td>\n      <td>SYP</td>\n      <td>crodriguez@hotmail.com</td>\n      <td>Christopher</td>\n      <td>Colour technologist</td>\n      <td>Flores</td>\n      <td>+1-839-894-7196x5934</td>\n    </tr>\n    <tr>\n      <th>3</th>\n      <td>YE</td>\n      <td>NOK</td>\n      <td>sheltondavid@johnson.biz</td>\n      <td>Antonio</td>\n      <td>Information systems manager</td>\n      <td>Zavala</td>\n      <td>+1-848-339-6947</td>\n    </tr>\n    <tr>\n      <th>6</th>\n      <td>MD</td>\n      <td>ALL</td>\n      <td>howardjessica@hotmail.com</td>\n      <td>Benjamin</td>\n      <td>Pathologist</td>\n      <td>Garcia</td>\n      <td>(302)258-4197</td>\n    </tr>\n  </tbody>\n</table>\n</div>"
     },
     "metadata": {},
     "execution_count": 47
    }
   ],
   "source": [
    "# 5 A person who verifies the condition 4 but doesn't verify the condition 1 and currency code isn't ZWD\n",
    "c5 = and_(c4, or_(c1, c3))\n",
    "df[c5].head()"
   ]
  },
  {
   "source": [
    "### 3.6 A person who verfies that at least one of his columns start with a +"
   ],
   "cell_type": "markdown",
   "metadata": {}
  },
  {
   "cell_type": "code",
   "execution_count": 48,
   "metadata": {},
   "outputs": [
    {
     "output_type": "execute_result",
     "data": {
      "text/plain": [
       "   country_code currency_code                     email   first_name  \\\n",
       "2            NG           SYP    crodriguez@hotmail.com  Christopher   \n",
       "3            YE           NOK  sheltondavid@johnson.biz      Antonio   \n",
       "7            CI           PEN          ubanks@yahoo.com         Erin   \n",
       "9            HN           PEN          amunoz@gmail.com   Jacqueline   \n",
       "11           SA           FJD     mwilliams@hotmail.com       Angela   \n",
       "\n",
       "                                              job   last_name  \\\n",
       "2                             Colour technologist      Flores   \n",
       "3                     Information systems manager      Zavala   \n",
       "7                      Museum/gallery conservator  Mccullough   \n",
       "9                              Veterinary surgeon     Griffin   \n",
       "11  Chartered legal executive (England and Wales)       Potts   \n",
       "\n",
       "            phone_number  \n",
       "2   +1-839-894-7196x5934  \n",
       "3        +1-848-339-6947  \n",
       "7        +1-715-084-2375  \n",
       "9   +1-063-812-0665x0300  \n",
       "11       +1-765-823-6940  "
      ],
      "text/html": "<div>\n<style scoped>\n    .dataframe tbody tr th:only-of-type {\n        vertical-align: middle;\n    }\n\n    .dataframe tbody tr th {\n        vertical-align: top;\n    }\n\n    .dataframe thead th {\n        text-align: right;\n    }\n</style>\n<table border=\"1\" class=\"dataframe\">\n  <thead>\n    <tr style=\"text-align: right;\">\n      <th></th>\n      <th>country_code</th>\n      <th>currency_code</th>\n      <th>email</th>\n      <th>first_name</th>\n      <th>job</th>\n      <th>last_name</th>\n      <th>phone_number</th>\n    </tr>\n  </thead>\n  <tbody>\n    <tr>\n      <th>2</th>\n      <td>NG</td>\n      <td>SYP</td>\n      <td>crodriguez@hotmail.com</td>\n      <td>Christopher</td>\n      <td>Colour technologist</td>\n      <td>Flores</td>\n      <td>+1-839-894-7196x5934</td>\n    </tr>\n    <tr>\n      <th>3</th>\n      <td>YE</td>\n      <td>NOK</td>\n      <td>sheltondavid@johnson.biz</td>\n      <td>Antonio</td>\n      <td>Information systems manager</td>\n      <td>Zavala</td>\n      <td>+1-848-339-6947</td>\n    </tr>\n    <tr>\n      <th>7</th>\n      <td>CI</td>\n      <td>PEN</td>\n      <td>ubanks@yahoo.com</td>\n      <td>Erin</td>\n      <td>Museum/gallery conservator</td>\n      <td>Mccullough</td>\n      <td>+1-715-084-2375</td>\n    </tr>\n    <tr>\n      <th>9</th>\n      <td>HN</td>\n      <td>PEN</td>\n      <td>amunoz@gmail.com</td>\n      <td>Jacqueline</td>\n      <td>Veterinary surgeon</td>\n      <td>Griffin</td>\n      <td>+1-063-812-0665x0300</td>\n    </tr>\n    <tr>\n      <th>11</th>\n      <td>SA</td>\n      <td>FJD</td>\n      <td>mwilliams@hotmail.com</td>\n      <td>Angela</td>\n      <td>Chartered legal executive (England and Wales)</td>\n      <td>Potts</td>\n      <td>+1-765-823-6940</td>\n    </tr>\n  </tbody>\n</table>\n</div>"
     },
     "metadata": {},
     "execution_count": 48
    }
   ],
   "source": [
    "#A person who verfies that at least one of his columns start with a +\n",
    "lambda_func_startswith_plus = lambda cel : cel.lower().startswith('+')\n",
    "c6 = get_condition_on_at_least_one_col(df, lambda_func_startswith_plus)\n",
    "df[c6].head()"
   ]
  },
  {
   "source": [
    "### 3.7 A person who verifies that at least one of his first name, job or last name start with an a"
   ],
   "cell_type": "markdown",
   "metadata": {}
  },
  {
   "cell_type": "code",
   "execution_count": 50,
   "metadata": {},
   "outputs": [
    {
     "output_type": "execute_result",
     "data": {
      "text/plain": [
       "   country_code currency_code                           email first_name  \\\n",
       "3            YE           NOK        sheltondavid@johnson.biz    Antonio   \n",
       "10           MK           PGK           turnerhaley@gmail.com     Cheryl   \n",
       "11           SA           FJD           mwilliams@hotmail.com     Angela   \n",
       "14           DM           ARS                lklein@gmail.com     Angela   \n",
       "18           EG           HRK  mallorybarton@reyes-martin.org     Ashley   \n",
       "\n",
       "                                              job last_name  \\\n",
       "3                     Information systems manager    Zavala   \n",
       "10                        Agricultural consultant       Lee   \n",
       "11  Chartered legal executive (England and Wales)     Potts   \n",
       "14                   Conservation officer, nature   Roberts   \n",
       "18                                   Risk analyst      Cook   \n",
       "\n",
       "              phone_number  \n",
       "3          +1-848-339-6947  \n",
       "10   001-104-714-2851x2400  \n",
       "11         +1-765-823-6940  \n",
       "14  001-926-351-1087x31764  \n",
       "18        001-500-762-7912  "
      ],
      "text/html": "<div>\n<style scoped>\n    .dataframe tbody tr th:only-of-type {\n        vertical-align: middle;\n    }\n\n    .dataframe tbody tr th {\n        vertical-align: top;\n    }\n\n    .dataframe thead th {\n        text-align: right;\n    }\n</style>\n<table border=\"1\" class=\"dataframe\">\n  <thead>\n    <tr style=\"text-align: right;\">\n      <th></th>\n      <th>country_code</th>\n      <th>currency_code</th>\n      <th>email</th>\n      <th>first_name</th>\n      <th>job</th>\n      <th>last_name</th>\n      <th>phone_number</th>\n    </tr>\n  </thead>\n  <tbody>\n    <tr>\n      <th>3</th>\n      <td>YE</td>\n      <td>NOK</td>\n      <td>sheltondavid@johnson.biz</td>\n      <td>Antonio</td>\n      <td>Information systems manager</td>\n      <td>Zavala</td>\n      <td>+1-848-339-6947</td>\n    </tr>\n    <tr>\n      <th>10</th>\n      <td>MK</td>\n      <td>PGK</td>\n      <td>turnerhaley@gmail.com</td>\n      <td>Cheryl</td>\n      <td>Agricultural consultant</td>\n      <td>Lee</td>\n      <td>001-104-714-2851x2400</td>\n    </tr>\n    <tr>\n      <th>11</th>\n      <td>SA</td>\n      <td>FJD</td>\n      <td>mwilliams@hotmail.com</td>\n      <td>Angela</td>\n      <td>Chartered legal executive (England and Wales)</td>\n      <td>Potts</td>\n      <td>+1-765-823-6940</td>\n    </tr>\n    <tr>\n      <th>14</th>\n      <td>DM</td>\n      <td>ARS</td>\n      <td>lklein@gmail.com</td>\n      <td>Angela</td>\n      <td>Conservation officer, nature</td>\n      <td>Roberts</td>\n      <td>001-926-351-1087x31764</td>\n    </tr>\n    <tr>\n      <th>18</th>\n      <td>EG</td>\n      <td>HRK</td>\n      <td>mallorybarton@reyes-martin.org</td>\n      <td>Ashley</td>\n      <td>Risk analyst</td>\n      <td>Cook</td>\n      <td>001-500-762-7912</td>\n    </tr>\n  </tbody>\n</table>\n</div>"
     },
     "metadata": {},
     "execution_count": 50
    }
   ],
   "source": [
    "lambda_func_startswith_a = lambda cel : cel.lower().startswith('a')\n",
    "columns = ['first_name', 'last_name', 'job']\n",
    "c7 = get_condition_on_at_least_one_col(df, lambda_func_startswith_a, columns)\n",
    "df[c7].head()"
   ]
  },
  {
   "cell_type": "code",
   "execution_count": 41,
   "metadata": {},
   "outputs": [
    {
     "output_type": "error",
     "ename": "SyntaxError",
     "evalue": "invalid syntax (<ipython-input-41-6ed7eebe17e0>, line 1)",
     "traceback": [
      "\u001b[0;36m  File \u001b[0;32m\"<ipython-input-41-6ed7eebe17e0>\"\u001b[0;36m, line \u001b[0;32m1\u001b[0m\n\u001b[0;31m    Using only boolean algebra\u001b[0m\n\u001b[0m             ^\u001b[0m\n\u001b[0;31mSyntaxError\u001b[0m\u001b[0;31m:\u001b[0m invalid syntax\n"
     ]
    }
   ],
   "source": [
    "Using only boolean algebra \n",
    "A person who her first name starts with an a\n",
    "A person who her last name start with a b\n",
    "A person who her first name doesn't end with an a and her last name doesn't end with a b\n",
    "A person who her country code is not US and verify the condition (1 and 2) or 3\n",
    "A person who verifies the condition 4 but doesn't verify the condition 1 and currency code isn't ZWD\n",
    "\n",
    "Using some 1st order logic\n",
    "A person who verfies that at least one of his columns start with a +\n",
    "A person who verifies that at least one of his first name, job or last name start with an a"
   ]
  },
  {
   "cell_type": "code",
   "execution_count": null,
   "metadata": {},
   "outputs": [],
   "source": []
  },
  {
   "cell_type": "code",
   "execution_count": null,
   "metadata": {},
   "outputs": [],
   "source": []
  }
 ]
}